{
 "cells": [
  {
   "cell_type": "markdown",
   "id": "9aaba845",
   "metadata": {},
   "source": [
    "# importing libraries and dataset"
   ]
  },
  {
   "cell_type": "code",
   "execution_count": 1,
   "id": "250df60d",
   "metadata": {},
   "outputs": [],
   "source": [
    "# importing libraries\n",
    "import numpy as np\n",
    "import pandas as pd\n",
    "import matplotlib.pyplot as plt\n",
    "import seaborn as sns"
   ]
  },
  {
   "cell_type": "code",
   "execution_count": 2,
   "id": "64eb533e",
   "metadata": {},
   "outputs": [
    {
     "data": {
      "text/html": [
       "<div>\n",
       "<style scoped>\n",
       "    .dataframe tbody tr th:only-of-type {\n",
       "        vertical-align: middle;\n",
       "    }\n",
       "\n",
       "    .dataframe tbody tr th {\n",
       "        vertical-align: top;\n",
       "    }\n",
       "\n",
       "    .dataframe thead th {\n",
       "        text-align: right;\n",
       "    }\n",
       "</style>\n",
       "<table border=\"1\" class=\"dataframe\">\n",
       "  <thead>\n",
       "    <tr style=\"text-align: right;\">\n",
       "      <th></th>\n",
       "      <th>created_at</th>\n",
       "      <th>source</th>\n",
       "      <th>text</th>\n",
       "      <th>polarity</th>\n",
       "      <th>subjectivity</th>\n",
       "      <th>lang</th>\n",
       "      <th>fav_count</th>\n",
       "      <th>retweet_count</th>\n",
       "      <th>screen_name</th>\n",
       "      <th>follower_count</th>\n",
       "      <th>friends_count</th>\n",
       "      <th>sensitivity</th>\n",
       "      <th>hashtags</th>\n",
       "      <th>mentions</th>\n",
       "      <th>location</th>\n",
       "    </tr>\n",
       "  </thead>\n",
       "  <tbody>\n",
       "    <tr>\n",
       "      <th>0</th>\n",
       "      <td>Fri Apr 22 22:20:18 +0000 2022</td>\n",
       "      <td>&lt;a href=\"http://twitter.com/download/android\" ...</td>\n",
       "      <td>RT @nikitheblogger: Irre: Annalena Baerbock sa...</td>\n",
       "      <td>NaN</td>\n",
       "      <td>NaN</td>\n",
       "      <td>NaN</td>\n",
       "      <td>113</td>\n",
       "      <td>355</td>\n",
       "      <td>nikitheblogger</td>\n",
       "      <td>3</td>\n",
       "      <td>12</td>\n",
       "      <td>NaN</td>\n",
       "      <td>[]</td>\n",
       "      <td>[{'screen_name': 'nikitheblogger', 'name': 'Ne...</td>\n",
       "      <td>NaN</td>\n",
       "    </tr>\n",
       "    <tr>\n",
       "      <th>1</th>\n",
       "      <td>Fri Apr 22 22:19:16 +0000 2022</td>\n",
       "      <td>&lt;a href=\"http://twitter.com/download/android\" ...</td>\n",
       "      <td>RT @sagt_mit: Merkel schaffte es in 1 Jahr 1 M...</td>\n",
       "      <td>NaN</td>\n",
       "      <td>NaN</td>\n",
       "      <td>NaN</td>\n",
       "      <td>113</td>\n",
       "      <td>505</td>\n",
       "      <td>sagt_mit</td>\n",
       "      <td>3</td>\n",
       "      <td>12</td>\n",
       "      <td>NaN</td>\n",
       "      <td>[]</td>\n",
       "      <td>[{'screen_name': 'sagt_mit', 'name': 'Sie sagt...</td>\n",
       "      <td>NaN</td>\n",
       "    </tr>\n",
       "    <tr>\n",
       "      <th>2</th>\n",
       "      <td>Fri Apr 22 22:17:28 +0000 2022</td>\n",
       "      <td>&lt;a href=\"http://twitter.com/download/android\" ...</td>\n",
       "      <td>RT @Kryptonoun: @WRi007 Pharma in Lebensmittel...</td>\n",
       "      <td>NaN</td>\n",
       "      <td>NaN</td>\n",
       "      <td>NaN</td>\n",
       "      <td>113</td>\n",
       "      <td>4</td>\n",
       "      <td>Kryptonoun</td>\n",
       "      <td>3</td>\n",
       "      <td>12</td>\n",
       "      <td>NaN</td>\n",
       "      <td>[]</td>\n",
       "      <td>[{'screen_name': 'Kryptonoun', 'name': 'Krypto...</td>\n",
       "      <td>NaN</td>\n",
       "    </tr>\n",
       "    <tr>\n",
       "      <th>3</th>\n",
       "      <td>Fri Apr 22 22:17:20 +0000 2022</td>\n",
       "      <td>&lt;a href=\"http://twitter.com/download/android\" ...</td>\n",
       "      <td>RT @WRi007: Die #Deutschen sind ein braves Vol...</td>\n",
       "      <td>NaN</td>\n",
       "      <td>NaN</td>\n",
       "      <td>NaN</td>\n",
       "      <td>113</td>\n",
       "      <td>332</td>\n",
       "      <td>WRi007</td>\n",
       "      <td>3</td>\n",
       "      <td>12</td>\n",
       "      <td>NaN</td>\n",
       "      <td>[{'text': 'Deutschen', 'indices': [16, 26]}, {...</td>\n",
       "      <td>[{'screen_name': 'WRi007', 'name': 'Wolfgang B...</td>\n",
       "      <td>NaN</td>\n",
       "    </tr>\n",
       "    <tr>\n",
       "      <th>4</th>\n",
       "      <td>Fri Apr 22 22:13:15 +0000 2022</td>\n",
       "      <td>&lt;a href=\"http://twitter.com/download/android\" ...</td>\n",
       "      <td>RT @RolandTichy: Baerbock verkündet mal so neb...</td>\n",
       "      <td>NaN</td>\n",
       "      <td>NaN</td>\n",
       "      <td>NaN</td>\n",
       "      <td>113</td>\n",
       "      <td>386</td>\n",
       "      <td>RolandTichy</td>\n",
       "      <td>3</td>\n",
       "      <td>12</td>\n",
       "      <td>NaN</td>\n",
       "      <td>[]</td>\n",
       "      <td>[{'screen_name': 'RolandTichy', 'name': 'Rolan...</td>\n",
       "      <td>NaN</td>\n",
       "    </tr>\n",
       "  </tbody>\n",
       "</table>\n",
       "</div>"
      ],
      "text/plain": [
       "                       created_at  \\\n",
       "0  Fri Apr 22 22:20:18 +0000 2022   \n",
       "1  Fri Apr 22 22:19:16 +0000 2022   \n",
       "2  Fri Apr 22 22:17:28 +0000 2022   \n",
       "3  Fri Apr 22 22:17:20 +0000 2022   \n",
       "4  Fri Apr 22 22:13:15 +0000 2022   \n",
       "\n",
       "                                              source  \\\n",
       "0  <a href=\"http://twitter.com/download/android\" ...   \n",
       "1  <a href=\"http://twitter.com/download/android\" ...   \n",
       "2  <a href=\"http://twitter.com/download/android\" ...   \n",
       "3  <a href=\"http://twitter.com/download/android\" ...   \n",
       "4  <a href=\"http://twitter.com/download/android\" ...   \n",
       "\n",
       "                                                text  polarity  subjectivity  \\\n",
       "0  RT @nikitheblogger: Irre: Annalena Baerbock sa...       NaN           NaN   \n",
       "1  RT @sagt_mit: Merkel schaffte es in 1 Jahr 1 M...       NaN           NaN   \n",
       "2  RT @Kryptonoun: @WRi007 Pharma in Lebensmittel...       NaN           NaN   \n",
       "3  RT @WRi007: Die #Deutschen sind ein braves Vol...       NaN           NaN   \n",
       "4  RT @RolandTichy: Baerbock verkündet mal so neb...       NaN           NaN   \n",
       "\n",
       "   lang  fav_count  retweet_count     screen_name  follower_count  \\\n",
       "0   NaN        113            355  nikitheblogger               3   \n",
       "1   NaN        113            505        sagt_mit               3   \n",
       "2   NaN        113              4      Kryptonoun               3   \n",
       "3   NaN        113            332          WRi007               3   \n",
       "4   NaN        113            386     RolandTichy               3   \n",
       "\n",
       "   friends_count sensitivity  \\\n",
       "0             12         NaN   \n",
       "1             12         NaN   \n",
       "2             12         NaN   \n",
       "3             12         NaN   \n",
       "4             12         NaN   \n",
       "\n",
       "                                            hashtags  \\\n",
       "0                                                 []   \n",
       "1                                                 []   \n",
       "2                                                 []   \n",
       "3  [{'text': 'Deutschen', 'indices': [16, 26]}, {...   \n",
       "4                                                 []   \n",
       "\n",
       "                                            mentions location  \n",
       "0  [{'screen_name': 'nikitheblogger', 'name': 'Ne...      NaN  \n",
       "1  [{'screen_name': 'sagt_mit', 'name': 'Sie sagt...      NaN  \n",
       "2  [{'screen_name': 'Kryptonoun', 'name': 'Krypto...      NaN  \n",
       "3  [{'screen_name': 'WRi007', 'name': 'Wolfgang B...      NaN  \n",
       "4  [{'screen_name': 'RolandTichy', 'name': 'Rolan...      NaN  "
      ]
     },
     "execution_count": 2,
     "metadata": {},
     "output_type": "execute_result"
    }
   ],
   "source": [
    "# importing dataset\n",
    "dataset = pd.read_csv('./data/processed_tweet_data.csv')\n",
    "dataset.head()"
   ]
  },
  {
   "cell_type": "code",
   "execution_count": 3,
   "id": "2f4aa93c",
   "metadata": {},
   "outputs": [
    {
     "data": {
      "text/html": [
       "<div>\n",
       "<style scoped>\n",
       "    .dataframe tbody tr th:only-of-type {\n",
       "        vertical-align: middle;\n",
       "    }\n",
       "\n",
       "    .dataframe tbody tr th {\n",
       "        vertical-align: top;\n",
       "    }\n",
       "\n",
       "    .dataframe thead th {\n",
       "        text-align: right;\n",
       "    }\n",
       "</style>\n",
       "<table border=\"1\" class=\"dataframe\">\n",
       "  <thead>\n",
       "    <tr style=\"text-align: right;\">\n",
       "      <th></th>\n",
       "      <th>created_at</th>\n",
       "      <th>source</th>\n",
       "      <th>text</th>\n",
       "      <th>polarity</th>\n",
       "      <th>subjectivity</th>\n",
       "      <th>lang</th>\n",
       "      <th>fav_count</th>\n",
       "      <th>retweet_count</th>\n",
       "      <th>screen_name</th>\n",
       "      <th>follower_count</th>\n",
       "      <th>friends_count</th>\n",
       "      <th>sensitivity</th>\n",
       "      <th>hashtags</th>\n",
       "      <th>mentions</th>\n",
       "      <th>location</th>\n",
       "    </tr>\n",
       "  </thead>\n",
       "  <tbody>\n",
       "    <tr>\n",
       "      <th>24620</th>\n",
       "      <td>Fri Apr 22 14:44:56 +0000 2022</td>\n",
       "      <td>&lt;a href=\"http://twitter.com/download/iphone\" r...</td>\n",
       "      <td>RT @waglenikhil: आपल्या घरातल्या कोणत्याही कार...</td>\n",
       "      <td>NaN</td>\n",
       "      <td>NaN</td>\n",
       "      <td>NaN</td>\n",
       "      <td>31392</td>\n",
       "      <td>242</td>\n",
       "      <td>waglenikhil</td>\n",
       "      <td>706</td>\n",
       "      <td>643</td>\n",
       "      <td>NaN</td>\n",
       "      <td>[]</td>\n",
       "      <td>[{'screen_name': 'waglenikhil', 'name': 'nikhi...</td>\n",
       "      <td>NaN</td>\n",
       "    </tr>\n",
       "    <tr>\n",
       "      <th>24621</th>\n",
       "      <td>Fri Apr 22 14:44:44 +0000 2022</td>\n",
       "      <td>&lt;a href=\"http://twitter.com/download/iphone\" r...</td>\n",
       "      <td>RT @yadavtejashwi: चौहरमल नगर, फुलवारी शरीफ मे...</td>\n",
       "      <td>NaN</td>\n",
       "      <td>NaN</td>\n",
       "      <td>NaN</td>\n",
       "      <td>31392</td>\n",
       "      <td>242</td>\n",
       "      <td>yadavtejashwi</td>\n",
       "      <td>706</td>\n",
       "      <td>643</td>\n",
       "      <td>NaN</td>\n",
       "      <td>[]</td>\n",
       "      <td>[{'screen_name': 'yadavtejashwi', 'name': 'Tej...</td>\n",
       "      <td>NaN</td>\n",
       "    </tr>\n",
       "    <tr>\n",
       "      <th>24622</th>\n",
       "      <td>Fri Apr 22 14:44:35 +0000 2022</td>\n",
       "      <td>&lt;a href=\"http://twitter.com/download/iphone\" r...</td>\n",
       "      <td>RT @Parthtiwari25: Gujarat Congress MLA arrest...</td>\n",
       "      <td>NaN</td>\n",
       "      <td>NaN</td>\n",
       "      <td>NaN</td>\n",
       "      <td>31392</td>\n",
       "      <td>203</td>\n",
       "      <td>Parthtiwari25</td>\n",
       "      <td>706</td>\n",
       "      <td>643</td>\n",
       "      <td>NaN</td>\n",
       "      <td>[]</td>\n",
       "      <td>[{'screen_name': 'Parthtiwari25', 'name': 'Par...</td>\n",
       "      <td>NaN</td>\n",
       "    </tr>\n",
       "    <tr>\n",
       "      <th>24623</th>\n",
       "      <td>Fri Apr 22 14:44:08 +0000 2022</td>\n",
       "      <td>&lt;a href=\"http://twitter.com/download/iphone\" r...</td>\n",
       "      <td>RT @news24tvchannel: CM नीतीश कुमार ने तेजस्वी...</td>\n",
       "      <td>NaN</td>\n",
       "      <td>NaN</td>\n",
       "      <td>NaN</td>\n",
       "      <td>31392</td>\n",
       "      <td>301</td>\n",
       "      <td>news24tvchannel</td>\n",
       "      <td>706</td>\n",
       "      <td>643</td>\n",
       "      <td>NaN</td>\n",
       "      <td>[]</td>\n",
       "      <td>[{'screen_name': 'news24tvchannel', 'name': 'N...</td>\n",
       "      <td>NaN</td>\n",
       "    </tr>\n",
       "    <tr>\n",
       "      <th>24624</th>\n",
       "      <td>Fri Apr 22 14:43:01 +0000 2022</td>\n",
       "      <td>&lt;a href=\"http://twitter.com/download/iphone\" r...</td>\n",
       "      <td>RT @suvegrathi: भगवान और खुदा आपस में बात कर र...</td>\n",
       "      <td>NaN</td>\n",
       "      <td>NaN</td>\n",
       "      <td>NaN</td>\n",
       "      <td>31392</td>\n",
       "      <td>12</td>\n",
       "      <td>suvegrathi</td>\n",
       "      <td>706</td>\n",
       "      <td>643</td>\n",
       "      <td>NaN</td>\n",
       "      <td>[]</td>\n",
       "      <td>[{'screen_name': 'suvegrathi', 'name': 'Suveg ...</td>\n",
       "      <td>NaN</td>\n",
       "    </tr>\n",
       "  </tbody>\n",
       "</table>\n",
       "</div>"
      ],
      "text/plain": [
       "                           created_at  \\\n",
       "24620  Fri Apr 22 14:44:56 +0000 2022   \n",
       "24621  Fri Apr 22 14:44:44 +0000 2022   \n",
       "24622  Fri Apr 22 14:44:35 +0000 2022   \n",
       "24623  Fri Apr 22 14:44:08 +0000 2022   \n",
       "24624  Fri Apr 22 14:43:01 +0000 2022   \n",
       "\n",
       "                                                  source  \\\n",
       "24620  <a href=\"http://twitter.com/download/iphone\" r...   \n",
       "24621  <a href=\"http://twitter.com/download/iphone\" r...   \n",
       "24622  <a href=\"http://twitter.com/download/iphone\" r...   \n",
       "24623  <a href=\"http://twitter.com/download/iphone\" r...   \n",
       "24624  <a href=\"http://twitter.com/download/iphone\" r...   \n",
       "\n",
       "                                                    text  polarity  \\\n",
       "24620  RT @waglenikhil: आपल्या घरातल्या कोणत्याही कार...       NaN   \n",
       "24621  RT @yadavtejashwi: चौहरमल नगर, फुलवारी शरीफ मे...       NaN   \n",
       "24622  RT @Parthtiwari25: Gujarat Congress MLA arrest...       NaN   \n",
       "24623  RT @news24tvchannel: CM नीतीश कुमार ने तेजस्वी...       NaN   \n",
       "24624  RT @suvegrathi: भगवान और खुदा आपस में बात कर र...       NaN   \n",
       "\n",
       "       subjectivity  lang  fav_count  retweet_count      screen_name  \\\n",
       "24620           NaN   NaN      31392            242      waglenikhil   \n",
       "24621           NaN   NaN      31392            242    yadavtejashwi   \n",
       "24622           NaN   NaN      31392            203    Parthtiwari25   \n",
       "24623           NaN   NaN      31392            301  news24tvchannel   \n",
       "24624           NaN   NaN      31392             12       suvegrathi   \n",
       "\n",
       "       follower_count  friends_count sensitivity hashtags  \\\n",
       "24620             706            643         NaN       []   \n",
       "24621             706            643         NaN       []   \n",
       "24622             706            643         NaN       []   \n",
       "24623             706            643         NaN       []   \n",
       "24624             706            643         NaN       []   \n",
       "\n",
       "                                                mentions location  \n",
       "24620  [{'screen_name': 'waglenikhil', 'name': 'nikhi...      NaN  \n",
       "24621  [{'screen_name': 'yadavtejashwi', 'name': 'Tej...      NaN  \n",
       "24622  [{'screen_name': 'Parthtiwari25', 'name': 'Par...      NaN  \n",
       "24623  [{'screen_name': 'news24tvchannel', 'name': 'N...      NaN  \n",
       "24624  [{'screen_name': 'suvegrathi', 'name': 'Suveg ...      NaN  "
      ]
     },
     "execution_count": 3,
     "metadata": {},
     "output_type": "execute_result"
    }
   ],
   "source": [
    "dataset.tail()"
   ]
  },
  {
   "cell_type": "markdown",
   "id": "db02e304",
   "metadata": {},
   "source": [
    "### general data exploration"
   ]
  },
  {
   "cell_type": "code",
   "execution_count": 6,
   "id": "6c71d788",
   "metadata": {},
   "outputs": [
    {
     "data": {
      "text/plain": [
       "(24625, 15)"
      ]
     },
     "execution_count": 6,
     "metadata": {},
     "output_type": "execute_result"
    }
   ],
   "source": [
    "# shape of data\n",
    "dataset.shape"
   ]
  },
  {
   "cell_type": "code",
   "execution_count": 9,
   "id": "0a52b2fe",
   "metadata": {},
   "outputs": [
    {
     "data": {
      "text/plain": [
       "Index(['created_at', 'source', 'text', 'polarity', 'subjectivity', 'lang',\n",
       "       'fav_count', 'retweet_count', 'screen_name', 'follower_count',\n",
       "       'friends_count', 'sensitivity', 'hashtags', 'mentions', 'location'],\n",
       "      dtype='object')"
      ]
     },
     "execution_count": 9,
     "metadata": {},
     "output_type": "execute_result"
    }
   ],
   "source": [
    "# columns\n",
    "dataset.columns"
   ]
  },
  {
   "cell_type": "code",
   "execution_count": 12,
   "id": "d361361e",
   "metadata": {},
   "outputs": [
    {
     "data": {
      "text/plain": [
       "created_at         object\n",
       "source             object\n",
       "text               object\n",
       "polarity          float64\n",
       "subjectivity      float64\n",
       "lang               object\n",
       "fav_count           int64\n",
       "retweet_count       int64\n",
       "screen_name        object\n",
       "follower_count      int64\n",
       "friends_count       int64\n",
       "sensitivity          bool\n",
       "hashtags           object\n",
       "mentions           object\n",
       "location           object\n",
       "dtype: object"
      ]
     },
     "execution_count": 12,
     "metadata": {},
     "output_type": "execute_result"
    }
   ],
   "source": [
    "# datatypes\n",
    "dataset.dtypes"
   ]
  },
  {
   "cell_type": "code",
   "execution_count": 10,
   "id": "e0e3fa01",
   "metadata": {},
   "outputs": [
    {
     "data": {
      "text/plain": [
       "created_at            0\n",
       "source                0\n",
       "text                  0\n",
       "polarity              0\n",
       "subjectivity          0\n",
       "lang                  0\n",
       "fav_count             0\n",
       "retweet_count         0\n",
       "screen_name        6548\n",
       "follower_count        0\n",
       "friends_count         0\n",
       "sensitivity           0\n",
       "hashtags              0\n",
       "mentions              0\n",
       "location          15346\n",
       "dtype: int64"
      ]
     },
     "execution_count": 10,
     "metadata": {},
     "output_type": "execute_result"
    }
   ],
   "source": [
    "# checking for null values in data\n",
    "dataset.isnull().sum()"
   ]
  },
  {
   "cell_type": "markdown",
   "id": "aa3c8323",
   "metadata": {},
   "source": [
    "##### Data Cleaning \n",
    "for Screen_name :6548 \n",
    "location : 15346"
   ]
  },
  {
   "cell_type": "markdown",
   "id": "dba48099",
   "metadata": {},
   "source": [
    "# Task\n",
    "+ Text\n",
    "  - Text preprocessing\n",
    "  - Sentiment Analysis\n",
    "  - Keyword Extraction\n",
    "  - Entity Extraction"
   ]
  },
  {
   "cell_type": "code",
   "execution_count": 4,
   "id": "36516c08",
   "metadata": {},
   "outputs": [
    {
     "data": {
      "text/plain": [
       "{'<a href=\"http://fllwrs.com\" rel=\"nofollow\">fllwrs</a>',\n",
       " '<a href=\"http://gujarati.oneindia.com/\" rel=\"nofollow\">Oneindia Gujarat</a>',\n",
       " '<a href=\"http://hindi.goodreturns.in/\" rel=\"nofollow\">Goodreturns Hindi</a>',\n",
       " '<a href=\"http://instagram.com\" rel=\"nofollow\">Instagram</a>',\n",
       " '<a href=\"http://itdimension.intoday.in\" rel=\"nofollow\"> IndiaTodayFLASH</a>',\n",
       " '<a href=\"http://kannada.goodreturns.in/\" rel=\"nofollow\">Goodreturns Kannada</a>',\n",
       " '<a href=\"http://malayalam.oneindia.in/\" rel=\"nofollow\">Oneindia Malayalam</a>',\n",
       " '<a href=\"http://publicize.wp.com/\" rel=\"nofollow\">WordPress.com</a>',\n",
       " '<a href=\"http://rechargeduniya.com/\" rel=\"nofollow\">current news </a>',\n",
       " '<a href=\"http://technoperiod.blogspot.com\" rel=\"nofollow\">tweeter_biases</a>',\n",
       " '<a href=\"http://tweepsmap.com\" rel=\"nofollow\">Tweepsmap</a>',\n",
       " '<a href=\"http://twitter.com\" rel=\"nofollow\">Twitter Web Client</a>',\n",
       " '<a href=\"http://twitter.com/#!/download/ipad\" rel=\"nofollow\">Twitter for iPad</a>',\n",
       " '<a href=\"http://twitter.com/download/android\" rel=\"nofollow\">Twitter for Android</a>',\n",
       " '<a href=\"http://twitter.com/download/iphone\" rel=\"nofollow\">Twitter for iPhone</a>',\n",
       " '<a href=\"http://www.babash.fr\" rel=\"nofollow\">lnx621-app-dev2</a>',\n",
       " '<a href=\"http://www.chinatech.fr \" rel=\"nofollow\">kornflex6-dev</a>',\n",
       " '<a href=\"http://www.everlytic.co.za\" rel=\"nofollow\">Everlytic</a>',\n",
       " '<a href=\"http://www.linkedin.com/\" rel=\"nofollow\">LinkedIn</a>',\n",
       " '<a href=\"http://www.mailchimp.com\" rel=\"nofollow\">Mailchimp</a>',\n",
       " '<a href=\"http://www.oneindia.com\" rel=\"nofollow\">Oneindia Video Upload</a>',\n",
       " '<a href=\"http://www.powerapps.com\" rel=\"nofollow\">Microsoft Power Platform</a>',\n",
       " '<a href=\"http://www.tamilstoday.com/\" rel=\"nofollow\">Tamilstoday</a>',\n",
       " '<a href=\"http://www.tbd.com\" rel=\"nofollow\">Energy Fuels Autopilot</a>',\n",
       " '<a href=\"http://www.vicconsult.com/twitter-tracking-followers-keywords/\" rel=\"nofollow\">Tweets Watch</a>',\n",
       " '<a href=\"http://youtube.com\" rel=\"nofollow\">VictorsRetweetBot</a>',\n",
       " '<a href=\"https://about.twitter.com/products/tweetdeck\" rel=\"nofollow\">TweetDeck</a>',\n",
       " '<a href=\"https://adobe.com/express\" rel=\"nofollow\">Adobe Creative Cloud Express</a>',\n",
       " '<a href=\"https://app.agorapulse.com\" rel=\"nofollow\">Agorapulse app</a>',\n",
       " '<a href=\"https://botbird.net\" rel=\"nofollow\">Botbird tweets</a>',\n",
       " '<a href=\"https://buffer.com\" rel=\"nofollow\">Buffer</a>',\n",
       " '<a href=\"https://dlvrit.com/\" rel=\"nofollow\">dlvr.it</a>',\n",
       " '<a href=\"https://github.com/thirovan/id.git\" rel=\"nofollow\">All India Tweet</a>',\n",
       " '<a href=\"https://graycode.ie\" rel=\"nofollow\">IrelandFuelBot</a>',\n",
       " '<a href=\"https://graycode.ie\" rel=\"nofollow\">PickAPump</a>',\n",
       " '<a href=\"https://help.twitter.com/en/using-twitter/how-to-tweet#source-labels\" rel=\"nofollow\">SocapRetweeted</a>',\n",
       " '<a href=\"https://help.twitter.com/en/using-twitter/how-to-tweet#source-labels\" rel=\"nofollow\">boink meme</a>',\n",
       " '<a href=\"https://help.twitter.com/en/using-twitter/how-to-tweet#source-labels\" rel=\"nofollow\">bot_test_rasp</a>',\n",
       " '<a href=\"https://help.twitter.com/en/using-twitter/how-to-tweet#source-labels\" rel=\"nofollow\">domicilefixe-dev2</a>',\n",
       " '<a href=\"https://help.twitter.com/en/using-twitter/how-to-tweet#source-labels\" rel=\"nofollow\">econotw</a>',\n",
       " '<a href=\"https://hocalwire.com\" rel=\"nofollow\">Hocalwire Social Share</a>',\n",
       " '<a href=\"https://ifttt.com\" rel=\"nofollow\">IFTTT</a>',\n",
       " '<a href=\"https://malayalam.oneindia.com\" rel=\"nofollow\">thatsmalayalam videos</a>',\n",
       " '<a href=\"https://mobile.twitter.com\" rel=\"nofollow\">Twitter Web App</a>',\n",
       " '<a href=\"https://mobile.twitter.com/damien_dupre\" rel=\"nofollow\">pumpsie_bot</a>',\n",
       " '<a href=\"https://paper.li\" rel=\"nofollow\">Paper.li</a>',\n",
       " '<a href=\"https://pastexpiry.blogspot.com\" rel=\"nofollow\">PEtwitpix</a>',\n",
       " '<a href=\"https://periscope.tv\" rel=\"nofollow\">Periscope</a>',\n",
       " '<a href=\"https://secure.fmgsuite.com\" rel=\"nofollow\">FMG Social</a>',\n",
       " '<a href=\"https://social.zoho.com\" rel=\"nofollow\">Zoho Social</a>',\n",
       " '<a href=\"https://sproutsocial.com\" rel=\"nofollow\">Sprout Social</a>',\n",
       " '<a href=\"https://studio.twitter.com\" rel=\"nofollow\">Twitter Media Studio</a>',\n",
       " '<a href=\"https://twitter.com/TContester\" rel=\"nofollow\">The contester</a>',\n",
       " '<a href=\"https://twitter.com/naalikeram\" rel=\"nofollow\">naalikeram</a>',\n",
       " '<a href=\"https://usepostly.com\" rel=\"nofollow\">Postly-Fast Content Scheduler</a>',\n",
       " '<a href=\"https://www.24liveblog.com/\" rel=\"nofollow\">24liveblog</a>',\n",
       " '<a href=\"https://www.cloze.com\" rel=\"nofollow\">Cloze Relationship Management</a>',\n",
       " '<a href=\"https://www.hootsuite.com\" rel=\"nofollow\">Hootsuite Inc.</a>',\n",
       " '<a href=\"https://www.later.com\" rel=\"nofollow\">LaterMedia</a>',\n",
       " '<a href=\"https://www.locobuzz.com\" rel=\"nofollow\">Locobuzz CX</a>',\n",
       " '<a href=\"https://www.loomly.com/\" rel=\"nofollow\">Loomly</a>',\n",
       " '<a href=\"https://www.meltwater.com/\" rel=\"nofollow\">Meltwater Social</a>',\n",
       " '<a href=\"https://www.oneindia.com/\" rel=\"nofollow\">Oneindia News Eng</a>',\n",
       " '<a href=\"https://www.socialjukebox.com\" rel=\"nofollow\">The Social Jukebox</a>',\n",
       " '<a href=\"https://www.spreaker.com\" rel=\"nofollow\">Spreaker</a>',\n",
       " '<a href=\"https://www.twitter.com/\" rel=\"nofollow\">Twitter Media Studio - LiveCut</a>'}"
      ]
     },
     "execution_count": 4,
     "metadata": {},
     "output_type": "execute_result"
    }
   ],
   "source": [
    "# devices with these tweets \n",
    "set(dataset['source'])"
   ]
  },
  {
   "cell_type": "code",
   "execution_count": 5,
   "id": "cebaed14",
   "metadata": {},
   "outputs": [
    {
     "data": {
      "text/plain": [
       "<a href=\"http://twitter.com/download/android\" rel=\"nofollow\">Twitter for Android</a>    10804\n",
       "<a href=\"http://twitter.com/download/iphone\" rel=\"nofollow\">Twitter for iPhone</a>       5375\n",
       "<a href=\"https://mobile.twitter.com\" rel=\"nofollow\">Twitter Web App</a>                  5114\n",
       "<a href=\"http://twitter.com/#!/download/ipad\" rel=\"nofollow\">Twitter for iPad</a>         597\n",
       "<a href=\"https://about.twitter.com/products/tweetdeck\" rel=\"nofollow\">TweetDeck</a>       270\n",
       "                                                                                        ...  \n",
       "<a href=\"https://www.24liveblog.com/\" rel=\"nofollow\">24liveblog</a>                         1\n",
       "<a href=\"https://www.loomly.com/\" rel=\"nofollow\">Loomly</a>                                 1\n",
       "<a href=\"https://ifttt.com\" rel=\"nofollow\">IFTTT</a>                                        1\n",
       "<a href=\"http://tweepsmap.com\" rel=\"nofollow\">Tweepsmap</a>                                 1\n",
       "<a href=\"https://usepostly.com\" rel=\"nofollow\">Postly-Fast Content Scheduler</a>            1\n",
       "Name: source, Length: 66, dtype: int64"
      ]
     },
     "execution_count": 5,
     "metadata": {},
     "output_type": "execute_result"
    }
   ],
   "source": [
    "# count of tweets per devices\n",
    "dataset['source'].value_counts()"
   ]
  },
  {
   "cell_type": "code",
   "execution_count": 6,
   "id": "cf61a5d0",
   "metadata": {},
   "outputs": [
    {
     "data": {
      "text/plain": [
       "<AxesSubplot:>"
      ]
     },
     "execution_count": 6,
     "metadata": {},
     "output_type": "execute_result"
    },
    {
     "data": {
      "image/png": "[encoded data removed]",
      "text/plain": [
       "<Figure size 432x288 with 1 Axes>"
      ]
     },
     "metadata": {
      "needs_background": "light"
     },
     "output_type": "display_data"
    }
   ],
   "source": [
    "# plot the top 10 sources\n",
    "dataset['source'].value_counts()[:10].plot(kind='bar')"
   ]
  },
  {
   "cell_type": "code",
   "execution_count": null,
   "id": "d8c28177",
   "metadata": {},
   "outputs": [],
   "source": []
  }
 ],
 "metadata": {
  "kernelspec": {
   "display_name": "Python 3 (ipykernel)",
   "language": "python",
   "name": "python3"
  },
  "language_info": {
   "codemirror_mode": {
    "name": "ipython",
    "version": 3
   },
   "file_extension": ".py",
   "mimetype": "text/x-python",
   "name": "python",
   "nbconvert_exporter": "python",
   "pygments_lexer": "ipython3",
   "version": "3.9.7"
  }
 },
 "nbformat": 4,
 "nbformat_minor": 5
}
